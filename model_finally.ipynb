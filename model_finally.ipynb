{
 "cells": [
  {
   "cell_type": "code",
   "execution_count": 2,
   "metadata": {},
   "outputs": [],
   "source": [
    "import numpy as np\n",
    "import time\n",
    "import matplotlib.pyplot as plt\n",
    "\n",
    "class Neural_Network:\n",
    "    def __init__(self, input, output, hidden=None) -> None:\n",
    "        self.input = input\n",
    "        self.output = output\n",
    "        self.hidden = hidden\n",
    "\n",
    "        self.W = []\n",
    "        self.b = []\n",
    "\n",
    "        if self.hidden != None:\n",
    "            self.W.append(np.random.randn(input, hidden[0]))\n",
    "            self.b.append(np.zeros((1, hidden[0])))\n",
    "\n",
    "            for i in range(len(hidden)-1):\n",
    "                self.W.append(np.random.randn(self.hidden[i], self.hidden[i+1]))\n",
    "                self.b.append(np.zeros((1, self.hidden[i+1])))\n",
    "\n",
    "            self.W.append(np.random.randn(hidden[-1], output))\n",
    "            self.b.append(np.zeros(output))\n",
    "        else:\n",
    "            self.W.append(np.random.randn(input, output))\n",
    "            self.b.append(np.zeros(output))\n",
    "\n",
    "        for i in range(len(self.W)):\n",
    "            print(f'W{i+1}: {self.W[i].shape}, b{i+1}: {self.b[i].shape}')\n",
    "\n",
    "    def fit(self, X, Y, epoch, learning_rate, batch_size):\n",
    "        self.m = len(X)\n",
    "        self.loss_hist = []\n",
    "        self.acc_hist = []\n",
    "\n",
    "        begin = time.time()\n",
    "        for i in range(1, epoch+1):\n",
    "\n",
    "            self.build_layer(X)\n",
    "            if self.output == 1:\n",
    "                Error = self.binary_cross_entropy(Y, self.A[-1])\n",
    "                Accuarcy = self.logistic_accuracy(Y, self.A[-1])\n",
    "                self.loss_hist.append(Error)\n",
    "                self.acc_hist.append(Accuarcy)\n",
    "            else:\n",
    "                Error = self.cross_entropy(Y, self.A[-1])\n",
    "                Accuarcy = self.softmax_accuracy(Y, self.A[-1])\n",
    "                self.loss_hist.append(Error)\n",
    "                self.acc_hist.append(Accuarcy)\n",
    "\n",
    "            for batch_size_i in range(self.m//batch_size):\n",
    "                self.loss = []\n",
    "                \n",
    "                start_i = batch_size_i*batch_size\n",
    "                end_i = batch_size_i*batch_size+batch_size\n",
    "\n",
    "                X_batch = X[start_i:end_i,]\n",
    "                Y_batch = Y[start_i:end_i,]\n",
    "\n",
    "                self.build_layer(X_batch)\n",
    "\n",
    "                # --------------------------------\n",
    "                # build_layer한 A를 이용하여 가중치 업데이트\n",
    "\n",
    "                self.loss.append(self.A[-1]-Y_batch)\n",
    "\n",
    "                for _ in reversed(range(1, len(self.A)-1)):\n",
    "                    dW = (1/batch_size) * np.dot(self.A[_].T, self.loss[-1])\n",
    "                    self.W[_] = self.W[_] - learning_rate * dW\n",
    "\n",
    "                    db = (1/batch_size) * np.sum(self.loss[-1], axis=0)\n",
    "                    self.b[_] = self.b[_] - learning_rate * db\n",
    "\n",
    "                    loss = self.A[_] * (1 - self.A[_]) * np.dot(self.loss[-1], self.W[_].T)\n",
    "                    self.loss.append(loss)\n",
    "\n",
    "                dW = (1/batch_size) * np.dot(self.A[0].T, self.loss[-1])\n",
    "                self.W[0] = self.W[0] - learning_rate * dW\n",
    "\n",
    "                db = (1/batch_size) * np.sum(self.loss[-1], axis=0)\n",
    "                self.b[0] = self.b[0] - learning_rate * db\n",
    "\n",
    "                # ----------------------------------\n",
    "\n",
    "            end = time.time()\n",
    "            print(f'Epoch: {i:5}/{epoch}, loss: {Error.item():f}, accuarcy: {Accuarcy.item():f} - {end-begin:f}s')\n",
    "            begin = time.time()\n",
    "\n",
    "    def build_layer(self, X):\n",
    "        self.A = []\n",
    "        self.A.append(X) # A의 첫번째 데이터는 X\n",
    "        for i in range(len(self.W)):\n",
    "\n",
    "            if i+1 == len(self.W):\n",
    "                if self.output == 1:\n",
    "                    self.A.append(self.sigmoid(np.dot(self.A[i], self.W[i])+self.b[i]))\n",
    "                else:\n",
    "                    self.A.append(self.softmax(np.dot(self.A[i], self.W[i])+self.b[i]))\n",
    "            else:\n",
    "                self.A.append(self.sigmoid(np.dot(self.A[i], self.W[i])+self.b[i]))  \n",
    "\n",
    "    def evaluate(self, X, Y):\n",
    "        self.build_layer(X)\n",
    "\n",
    "        if self.output == 1:\n",
    "            return self.binary_cross_entropy(Y, self.A[-1]), self.logistic_accuracy(Y, self.A[-1])\n",
    "        else:\n",
    "            return self.cross_entropy(Y, self.A[-1]), self.softmax_accuracy(Y, self.A[-1])\n",
    "    \n",
    "    def plot(self):\n",
    "        plt.plot(self.loss_hist, label='loss')\n",
    "        plt.plot(self.acc_hist, label='accuracy')\n",
    "        plt.legend()\n",
    "        plt.show()\n",
    "\n",
    "    def cross_entropy(self, y_true, y_pred):\n",
    "        return -(1/len(y_true)) * np.sum(np.sum(y_true*np.log(y_pred+1e-7), axis=1), axis=0)\n",
    "\n",
    "    def softmax_accuracy(self, y_true, y_pred):\n",
    "        return (1/len(y_true)) * np.sum([np.argmax(y_pred[i]) == np.argmax(y_true[i]) for i in range(len(y_true))], axis=0)\n",
    "\n",
    "    def sigmoid(self, x):\n",
    "        return 1 / (1 +np.exp(-x))\n",
    "\n",
    "    def softmax(self, z):\n",
    "        z -= np.max(z)\n",
    "        sm = (np.exp(z).T / np.sum(np.exp(z), axis=1)).T\n",
    "        return sm\n",
    "\n",
    "    def binary_cross_entropy(self, y_true, y_pred):\n",
    "        return -(1/len(y_true)) * np.sum(y_true*np.log(y_pred+1e-7)+(1-y_true)*np.log(1-y_pred+1e-7), axis=0)\n",
    "\n",
    "    def logistic_accuracy(self, y_true, y_pred):\n",
    "        return (1/len(y_true)) * np.sum((y_pred > 0.5) == y_true, axis=0)\n"
   ]
  },
  {
   "cell_type": "code",
   "execution_count": 3,
   "metadata": {},
   "outputs": [
    {
     "data": {
      "text/plain": [
       "((60000, 784), (60000, 10), (8000, 784), (8000, 10), (2000, 784), (2000, 10))"
      ]
     },
     "execution_count": 3,
     "metadata": {},
     "output_type": "execute_result"
    }
   ],
   "source": [
    "from keras.datasets.mnist import load_data\n",
    "(x_train, y_train), (x_test, y_test) = load_data(path='mnist.npz')\n",
    "#x_train = np.where(x_train != 0, 1, 0)\n",
    "#x_test = np.where(x_test != 0, 1, 0)\n",
    "x_train = x_train/255\n",
    "x_test = x_test/255\n",
    "x_test = x_test[:-2000]\n",
    "y_test = y_test[:-2000]\n",
    "x_vaild = x_test[-2000:]\n",
    "y_vaild = y_test[-2000:]\n",
    "def one_hot_encoding(x):\n",
    "    tmp = np.zeros((len(x),max(x)+1))\n",
    "    for idx, data in enumerate(x):\n",
    "        tmp[idx,data] = 1\n",
    "    return tmp\n",
    "\n",
    "x_train = x_train.reshape(-1, 28*28)\n",
    "y_train = one_hot_encoding(y_train)\n",
    "x_test = x_test.reshape(-1, 28*28)\n",
    "y_test = one_hot_encoding(y_test)\n",
    "x_vaild = x_vaild.reshape(-1, 28*28)\n",
    "y_vaild = one_hot_encoding(y_vaild)\n",
    "x_train.shape, y_train.shape, x_test.shape, y_test.shape, x_vaild.shape, y_vaild.shape"
   ]
  },
  {
   "cell_type": "code",
   "execution_count": 4,
   "metadata": {},
   "outputs": [
    {
     "name": "stdout",
     "output_type": "stream",
     "text": [
      "W1: (784, 512), b1: (1, 512)\n",
      "W2: (512, 256), b2: (1, 256)\n",
      "W3: (256, 10), b3: (10,)\n",
      "Epoch:     1/5, loss: 13.027035, accuarcy: 0.109150 - 5.406672s\n",
      "Epoch:     2/5, loss: 3.726099, accuarcy: 0.614083 - 5.472967s\n",
      "Epoch:     3/5, loss: 0.836601, accuarcy: 0.851000 - 5.306957s\n",
      "Epoch:     4/5, loss: 0.583201, accuarcy: 0.882933 - 5.173099s\n",
      "Epoch:     5/5, loss: 0.485036, accuarcy: 0.897317 - 5.469006s\n"
     ]
    }
   ],
   "source": [
    "model = Neural_Network(input=784, output=10, hidden=(512, 256))\n",
    "model.fit(x_train, y_train, epoch=5, learning_rate=1, batch_size=600)"
   ]
  },
  {
   "cell_type": "code",
   "execution_count": 5,
   "metadata": {},
   "outputs": [
    {
     "data": {
      "image/png": "[encoded data removed]",
      "text/plain": [
       "<Figure size 640x480 with 1 Axes>"
      ]
     },
     "metadata": {},
     "output_type": "display_data"
    }
   ],
   "source": [
    "model.plot()"
   ]
  },
  {
   "cell_type": "code",
   "execution_count": 6,
   "metadata": {},
   "outputs": [
    {
     "data": {
      "text/plain": [
       "((0.4161601632297263, 0.9055666666666667),\n",
       " (0.5066179317552106, 0.8895000000000001),\n",
       " (0.2857462989893389, 0.935))"
      ]
     },
     "execution_count": 6,
     "metadata": {},
     "output_type": "execute_result"
    }
   ],
   "source": [
    "model.evaluate(x_train, y_train), model.evaluate(x_test, y_test), model.evaluate(x_vaild, y_vaild)"
   ]
  }
 ],
 "metadata": {
  "kernelspec": {
   "display_name": "Python 3 (ipykernel)",
   "language": "python",
   "name": "python3"
  },
  "language_info": {
   "codemirror_mode": {
    "name": "ipython",
    "version": 3
   },
   "file_extension": ".py",
   "mimetype": "text/x-python",
   "name": "python",
   "nbconvert_exporter": "python",
   "pygments_lexer": "ipython3",
   "version": "3.8.9"
  },
  "vscode": {
   "interpreter": {
    "hash": "e0144baad0ecee903f108a3e46e51ceadd7da3fc904cfa79747d813b61464b4e"
   }
  }
 },
 "nbformat": 4,
 "nbformat_minor": 2
}
